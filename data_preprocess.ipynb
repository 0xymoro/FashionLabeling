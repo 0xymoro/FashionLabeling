{
 "metadata": {
  "language_info": {
   "codemirror_mode": {
    "name": "ipython",
    "version": 3
   },
   "file_extension": ".py",
   "mimetype": "text/x-python",
   "name": "python",
   "nbconvert_exporter": "python",
   "pygments_lexer": "ipython3",
   "version": "3.7.3-final"
  },
  "orig_nbformat": 2,
  "kernelspec": {
   "name": "python3",
   "display_name": "Python 3"
  }
 },
 "nbformat": 4,
 "nbformat_minor": 2,
 "cells": [
  {
   "cell_type": "code",
   "execution_count": 1,
   "metadata": {},
   "outputs": [],
   "source": [
    "from PIL import Image\n",
    "import os"
   ]
  },
  {
   "cell_type": "code",
   "execution_count": 3,
   "metadata": {
    "tags": []
   },
   "outputs": [
    {
     "output_type": "stream",
     "name": "stdout",
     "text": "img/Sheer_Woven_Blouse/img_00000105.jpg\n"
    }
   ],
   "source": [
    "#Reads from partitioned doc\n",
    "\n",
    "#traindoc = open(\"DeepFashion/train.txt\", \"r\")\n",
    "#valdoc = open(\"DeepFashion/val.txt\", \"r\")\n",
    "#testdoc = open(\"DeepFashion/test.txt\", \"r\")\n",
    "allfiles = open(\"DeepFashion/Eval/list_eval_partition.txt\")\n",
    "lines = [line.split()[0] for line in allfiles.readlines()] \n",
    "print(lines[255])"
   ]
  },
  {
   "cell_type": "code",
   "execution_count": 4,
   "metadata": {},
   "outputs": [],
   "source": [
    "#Function for center-crop and resizing for 224x224 size\n",
    "\n",
    "def make_square(im, fill_color=(255, 255, 255)):\n",
    "    x, y = im.size\n",
    "    size = 224 #ResNet\n",
    "    #size = max(min_size, x, y)\n",
    "    new_im = Image.new('RGB', (size, size), fill_color)\n",
    "    new_im.paste(im, (int((size - x) / 2), int((size - y) / 2)))\n",
    "    return new_im"
   ]
  },
  {
   "cell_type": "code",
   "execution_count": 7,
   "metadata": {
    "tags": []
   },
   "outputs": [],
   "source": [
    "#Writes the newly resized and filled image to its output location with same name (note the output directory is a level above the \"DeepFashion\" directory)\n",
    "\n",
    "for i in range (2, len(lines)):\n",
    "    im = Image.open(\"DeepFashion/\" + lines[i])\n",
    "    new_im = make_square(im)\n",
    "    if not os.path.isdir(os.path.dirname(lines[i])):\n",
    "        os.makedirs(os.path.dirname(lines[i]))\n",
    "    new_im.save(lines[i],\"JPEG\")\n",
    "    im.close()\n",
    "    new_im.close()\n",
    "\n"
   ]
  },
  {
   "cell_type": "code",
   "execution_count": null,
   "metadata": {},
   "outputs": [],
   "source": []
  },
  {
   "cell_type": "code",
   "execution_count": null,
   "metadata": {},
   "outputs": [],
   "source": []
  },
  {
   "cell_type": "code",
   "execution_count": null,
   "metadata": {
    "tags": []
   },
   "outputs": [],
   "source": [
    "#Opens the file for the attribute list\n",
    "\n",
    "labelsdoc = open(\"DeepFashion/Anno_coarse/list_attr_img.txt\")\n",
    "linesLabels = [line.rstrip() for line in labelsdoc.readlines()]\n",
    "print(linesLabels[0])"
   ]
  },
  {
   "cell_type": "code",
   "execution_count": null,
   "metadata": {
    "tags": []
   },
   "outputs": [],
   "source": [
    "#Makes the dictionary from the filename, to its corresponding list of attributes.  \n",
    "\n",
    "fileToLabels = {}\n",
    "for i in range (int(linesLabels[0])):\n",
    "    index = i+2  #The actual index of the line we want to read from\n",
    "    linesArray = linesLabels[index].split()\n",
    "    key = linesArray[0]\n",
    "    linesArray.pop(0)\n",
    "    if (i == 234):\n",
    "        print(key)\n",
    "        print(linesArray)\n",
    "    fileToLabels[key] = linesArray\n",
    "print(len(fileToLabels))\n",
    "del linesLabels\n"
   ]
  },
  {
   "cell_type": "code",
   "execution_count": null,
   "metadata": {},
   "outputs": [],
   "source": []
  }
 ]
}